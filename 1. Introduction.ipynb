{
 "cells": [
  {
   "cell_type": "markdown",
   "id": "b94e782e",
   "metadata": {},
   "source": [
    "# Machine Learning Classification of Breast Cancer Tumors\n",
    "## CS677 Final Project\n",
    "## Melissa Viator"
   ]
  },
  {
   "cell_type": "markdown",
   "id": "37d8bac0",
   "metadata": {},
   "source": [
    "# Introduction"
   ]
  },
  {
   "cell_type": "markdown",
   "id": "2fce63b5",
   "metadata": {},
   "source": [
    "Breast cancer is the second most common cancer among women in the United States. About 1 in 8 women will develop breast cancer sometime in her life. In 2021, it’s estimated among women in the United States there will be ~281,550 new cases of invasive breast cancer, ~49,290 new cases of ductal carcinoma in situ (DCIS), and ~43,600 women will die from breast cancer (cancer.org).\n",
    "\n",
    "The diagnosis of breast cancer begins when a patient or doctor discovers an abnormal calcification on a screening or examination. If a suspicious lump is found, imaging tests (i.e. Mammogram, Breast ultrasound, PET/CT, Scintimammography) may be performed in order to determine if a breast lump is malignant (cancerous) or benign. Imaging tests are also utilized in routine screenings for breast cancer detection without the notable presence of a lump or mass. However, a biopsy, the removal of a small amount of tissue for examination under a microscope, is the only test that can make a definite diagnosis on whether a tumor is malignant or benign.\n",
    "\n",
    "Source: https://www.cancer.org/cancer/breast-cancer/about/how-common-is-breast-cancer.html"
   ]
  },
  {
   "cell_type": "markdown",
   "id": "a3a25856",
   "metadata": {},
   "source": [
    "Below are a few image examples of different variation of benign and malignant tumors:\n",
    "\n",
    "<img src=\"breast_cancer_tumors.png\" width=\"500\"/>\n",
    "\n",
    "Source: https://atatun.blogspot.com/2019/06/automating-breast-cancer-detection-with.html"
   ]
  },
  {
   "cell_type": "markdown",
   "id": "73ebf3e9",
   "metadata": {},
   "source": [
    "## Objective"
   ]
  },
  {
   "cell_type": "markdown",
   "id": "e964fdae",
   "metadata": {},
   "source": [
    "The objective of this analysis is to research and reproduce machine learning classification models that will accurately predict whether a tumor is malignant or benign based on a set of features collected from the imaging test.\n",
    "\n",
    "The analysis will begin by exploring the dataset and understanding the distribution and correlation of the variables included in the dataset. Next, the analysis will model three machine learning classifiers: Nearest Neighbor, Logistic Regression, and Artificial Neural Networks and determine which model is most effective in predicting whether a tumor is malignant or benign."
   ]
  }
 ],
 "metadata": {
  "kernelspec": {
   "display_name": "Python 3",
   "language": "python",
   "name": "python3"
  },
  "language_info": {
   "codemirror_mode": {
    "name": "ipython",
    "version": 3
   },
   "file_extension": ".py",
   "mimetype": "text/x-python",
   "name": "python",
   "nbconvert_exporter": "python",
   "pygments_lexer": "ipython3",
   "version": "3.8.8"
  }
 },
 "nbformat": 4,
 "nbformat_minor": 5
}
